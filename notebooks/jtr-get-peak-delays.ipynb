{
 "cells": [
  {
   "cell_type": "markdown",
   "metadata": {},
   "source": [
    "# Analysing the delays in a morning peak"
   ]
  },
  {
   "cell_type": "markdown",
   "metadata": {},
   "source": [
    "This notebook takes a all the raw data from a single delay, and determines the number of delays, and the worst delay for a set time period in the day."
   ]
  },
  {
   "cell_type": "code",
   "execution_count": 1,
   "metadata": {},
   "outputs": [],
   "source": [
    "import zipfile\n",
    "import io"
   ]
  },
  {
   "cell_type": "code",
   "execution_count": 2,
   "metadata": {},
   "outputs": [
    {
     "name": "stdout",
     "output_type": "stream",
     "text": [
      "Extracted file 20190123.zip\n"
     ]
    }
   ],
   "source": [
    "file_name = '20190123.zip'\n",
    "with open(file_name, \"rb\") as f:\n",
    "    z = zipfile.ZipFile(io.BytesIO(f.read()))\n",
    "\n",
    "z.extractall()\n",
    "print(\"Extracted file \" + file_name)"
   ]
  },
  {
   "cell_type": "markdown",
   "metadata": {},
   "source": [
    "We have a few directories to dive into before we get to the good stuff..."
   ]
  },
  {
   "cell_type": "code",
   "execution_count": 3,
   "metadata": {},
   "outputs": [
    {
     "name": "stdout",
     "output_type": "stream",
     "text": [
      "We have 720 delay files\n",
      "The timetable files are: stop_times.txt, shapes.txt, stops.txt, calendar.txt, trips.txt, agency.txt, routes.txt\n"
     ]
    }
   ],
   "source": [
    "import os\n",
    "import glob\n",
    "os.chdir('home/pi/sydney-transport-tracker/data/raw/20190123/')\n",
    "delay_files_count = len(glob.glob('*.pickle'))\n",
    "print('We have ' + str(delay_files_count) + ' delay files')\n",
    "timetable_files = glob.glob('*.txt')\n",
    "print('The timetable files are: ' + ', '.join(timetable_files))"
   ]
  },
  {
   "cell_type": "markdown",
   "metadata": {},
   "source": [
    "## What services are running today?\n",
    "The services are determined in `calendar.txt`, with those service IDs used to filter out everything in `trips.txt`. From there we have trip IDs, which can be used to filter out the scheduled stop times in `stop_times.txt`.\n",
    "\n",
    "`calendar.txt` -> `service_id` -> `trips.txt` -> `trip_id` -> `stop_times.txt` -> `arrival_time`, `departure_time`"
   ]
  },
  {
   "cell_type": "code",
   "execution_count": 4,
   "metadata": {},
   "outputs": [
    {
     "name": "stdout",
     "output_type": "stream",
     "text": [
      "Todays services = 1260.122.112, 1260.122.116, 1260.122.120, 1260.122.124, 1260.122.16, 1260.122.20, 1260.122.24, 1260.122.28, 1260.122.48, 1260.122.52, 1260.122.56, 1260.122.60, 1260.122.80, 1260.122.84, 1260.122.88, 1260.122.92\n"
     ]
    }
   ],
   "source": [
    "import datetime\n",
    "import pandas as pd\n",
    "import csv\n",
    "\n",
    "day_of_analysis = 'wednesday'\n",
    "date_of_analysis = datetime.datetime.strptime('20190123', \"%Y%m%d\").date()\n",
    "todays_services = []\n",
    "\n",
    "with open('calendar.txt', mode='r', encoding='utf-8-sig') as csv_file:\n",
    "    csv_reader = csv.DictReader(csv_file)\n",
    "    line_count = 0\n",
    "    for row in csv_reader:\n",
    "        if row[day_of_analysis] == '1':\n",
    "            start_date = datetime.datetime.strptime(row['start_date'], \"%Y%m%d\").date()\n",
    "            end_date = datetime.datetime.strptime(row['end_date'], \"%Y%m%d\").date()\n",
    "            if start_date <= date_of_analysis <= end_date:\n",
    "                todays_services.append(row['service_id'])\n",
    "\n",
    "print(\"Todays services = \" + ', '.join(todays_services))"
   ]
  },
  {
   "cell_type": "code",
   "execution_count": 5,
   "metadata": {},
   "outputs": [
    {
     "name": "stdout",
     "output_type": "stream",
     "text": [
      "       route_id    service_id                         trip_id  trip_short_name\n",
      "0        BNK_2a    1260.122.4    1--A.1260.122.4.M.8.55188158              NaN\n",
      "1        BNK_2a   1260.122.48   1--A.1260.122.48.M.8.55188157              NaN\n",
      "2        BNK_2a   1260.122.64   1--A.1260.122.64.M.8.55188157              NaN\n",
      "3        BNK_2a    1260.122.8    1--A.1260.122.8.M.8.55188158              NaN\n",
      "4      RTTA_DEF  1603.103.128  1--A.1603.103.128.M.8.54724494              NaN\n",
      "...         ...           ...                             ...              ...\n",
      "57308   CTY_W2a    1620.100.2    WT28.1620.100.2.X.5.55042064              NaN\n",
      "57309   CTY_W2a    1620.100.4    WT28.1620.100.4.X.5.55042062              NaN\n",
      "57310   CTY_W2a   483.101.120   WT28.483.101.120.X.5.55277012              NaN\n",
      "57311   CTY_W2a    487.111.60    WT28.487.111.60.X.5.55310994              NaN\n",
      "57312   CTY_W2a    487.111.64    WT28.487.111.64.X.5.55310994              NaN\n",
      "\n",
      "[57313 rows x 4 columns]\n"
     ]
    }
   ],
   "source": [
    "df_trips = pd.read_csv('trips.txt',\n",
    "                       header=0,\n",
    "                       encoding='utf-8-sig',\n",
    "                       usecols=[\"route_id\", \"service_id\", \"trip_id\", \"trip_short_name\"])\n",
    "df_filtered_trips = df_trips[df_trips['service_id'].isin(todays_services)]\n",
    "pd.options.display.max_rows = 10\n",
    "print(df_trips)"
   ]
  },
  {
   "cell_type": "markdown",
   "metadata": {},
   "source": [
    "Gosh, that's a lot of services... What are RTTA_DEF and RTTA_REV... and are those CountryLink services??? Let's filter out some of these services as we're only going to analyse what is going on in the general Sydney commuter network."
   ]
  },
  {
   "cell_type": "code",
   "execution_count": 6,
   "metadata": {},
   "outputs": [
    {
     "name": "stdout",
     "output_type": "stream",
     "text": [
      "      route_id   service_id                        trip_id  trip_short_name\n",
      "0       BNK_2a   1260.122.4   1--A.1260.122.4.M.8.55188158              NaN\n",
      "1       BNK_2a  1260.122.48  1--A.1260.122.48.M.8.55188157              NaN\n",
      "2       BNK_2a  1260.122.64  1--A.1260.122.64.M.8.55188157              NaN\n",
      "3       BNK_2a   1260.122.8   1--A.1260.122.8.M.8.55188158              NaN\n",
      "6       BNK_2a  1603.103.60  1--A.1603.103.60.M.8.54724492              NaN\n",
      "...        ...          ...                            ...              ...\n",
      "57276    BMT_2   483.101.56   WN18.483.101.56.N.2.55278207              NaN\n",
      "57277    BMT_2   483.101.64   WN18.483.101.64.N.2.55278207              NaN\n",
      "57278    BMT_2    487.111.4    WN18.487.111.4.N.2.55308164              NaN\n",
      "57279    BMT_2   487.111.56   WN18.487.111.56.N.2.55308164              NaN\n",
      "57280    BMT_2   487.111.64   WN18.487.111.64.N.2.55308164              NaN\n",
      "\n",
      "[47941 rows x 4 columns]\n"
     ]
    }
   ],
   "source": [
    "ROUTES_TO_IGNORE = [\"CTY_NC1\", \"CTY_NC1a\", \"CTY_NC2\", \"CTY_NW1a\", \"CTY_NW1b\", \"CTY_NW1c\", \"CTY_NW1d\",\n",
    "                    \"CTY_NW2a\", \"CTY_NW2b\", \"CTY_S1a\", \"CTY_S1b\", \"CTY_S1c\", \"CTY_S1d\", \"CTY_S1e\",\n",
    "                    \"CTY_S1f\", \"CTY_S1g\", \"CTY_S1h\", \"CTY_S1i\", \"CTY_S2a\", \"CTY_S2b\", \"CTY_S2c\",\n",
    "                    \"CTY_S2d\", \"CTY_S2e\", \"CTY_S2f\", \"CTY_S2g\", \"CTY_S2h\", \"CTY_S2i\", \"CTY_W1a\",\n",
    "                    \"CTY_W1b\", \"CTY_W2a\", \"CTY_W2b\", \"HUN_1a\", \"HUN_1b\", \"HUN_2a\", \"HUN_2b\",\n",
    "                    \"RTTA_DEF\", \"RTTA_REV\"]\n",
    "df_trips = df_trips[~df_trips['route_id'].isin(ROUTES_TO_IGNORE)]\n",
    "print(df_trips)"
   ]
  },
  {
   "cell_type": "markdown",
   "metadata": {},
   "source": [
    "Now, the `stop_times.txt` file contains the stop files from across a number of days. We can filter out which services we want by only looking at trips that are running today."
   ]
  },
  {
   "cell_type": "code",
   "execution_count": 7,
   "metadata": {},
   "outputs": [
    {
     "name": "stdout",
     "output_type": "stream",
     "text": [
      "                               trip_id arrival_time departure_time  stop_id\n",
      "10       1--A.1260.122.48.M.8.55188157     03:52:00       03:52:00  2144243\n",
      "11       1--A.1260.122.48.M.8.55188157     03:54:12       03:55:00  2141313\n",
      "12       1--A.1260.122.48.M.8.55188157     03:57:30       03:57:30   214063\n",
      "13       1--A.1260.122.48.M.8.55188157     03:58:42       03:58:42   214074\n",
      "14       1--A.1260.122.48.M.8.55188157     04:01:24       04:01:24  2135234\n",
      "...                                ...          ...            ...      ...\n",
      "1033592  WT28.1260.122.60.X.5.55187037     20:26:24       20:26:24   214072\n",
      "1033593  WT28.1260.122.60.X.5.55187037     20:27:36       20:29:12  2135232\n",
      "1033594  WT28.1260.122.60.X.5.55187037     20:31:24       20:31:24   213491\n",
      "1033595  WT28.1260.122.60.X.5.55187037     20:39:06       20:39:06  2015133\n",
      "1033596  WT28.1260.122.60.X.5.55187037     20:42:24       23:34:00  2000325\n",
      "\n",
      "[73135 rows x 4 columns]\n"
     ]
    }
   ],
   "source": [
    "df_stop_times = pd.read_csv('stop_times.txt', header=0,\n",
    "                            encoding='utf-8-sig',\n",
    "                            dtype={'stop_id': str},\n",
    "                            usecols=[\"trip_id\", \"arrival_time\", \"departure_time\", \"stop_id\"],\n",
    "                            parse_dates=['arrival_time', 'departure_time'])\n",
    "\n",
    "# remove any trips from stop_times that did NOT happen on this date\n",
    "df_filtered_stop_times = df_stop_times[df_stop_times['trip_id'].isin(df_filtered_trips['trip_id'])]\n",
    "print(df_filtered_stop_times)"
   ]
  },
  {
   "cell_type": "code",
   "execution_count": null,
   "metadata": {},
   "outputs": [],
   "source": []
  }
 ],
 "metadata": {
  "kernelspec": {
   "display_name": "Python 3",
   "language": "python",
   "name": "python3"
  },
  "language_info": {
   "codemirror_mode": {
    "name": "ipython",
    "version": 3
   },
   "file_extension": ".py",
   "mimetype": "text/x-python",
   "name": "python",
   "nbconvert_exporter": "python",
   "pygments_lexer": "ipython3",
   "version": "3.5.2"
  }
 },
 "nbformat": 4,
 "nbformat_minor": 1
}
