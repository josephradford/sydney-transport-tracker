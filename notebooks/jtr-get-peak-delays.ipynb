{
 "cells": [
  {
   "cell_type": "markdown",
   "metadata": {},
   "source": [
    "# Analysing the delays in a morning peak"
   ]
  },
  {
   "cell_type": "markdown",
   "metadata": {},
   "source": [
    "This notebook takes a all the raw data from a single delay, and determines the number of delays, and the worst delay for a set time period in the day."
   ]
  },
  {
   "cell_type": "code",
   "execution_count": null,
   "metadata": {},
   "outputs": [],
   "source": [
    "import zipfile\n",
    "import io"
   ]
  },
  {
   "cell_type": "code",
   "execution_count": null,
   "metadata": {},
   "outputs": [],
   "source": [
    "file_name = '20190123.zip'\n",
    "with open(file_name, \"rb\") as f:\n",
    "    z = zipfile.ZipFile(io.BytesIO(f.read()))\n",
    "\n",
    "z.extractall()\n",
    "print(\"Extracted file \" + file_name)"
   ]
  },
  {
   "cell_type": "markdown",
   "metadata": {},
   "source": [
    "We have a few directories to dive into before we get to the good stuff..."
   ]
  },
  {
   "cell_type": "code",
   "execution_count": null,
   "metadata": {},
   "outputs": [],
   "source": [
    "import os\n",
    "os.chdir('home/pi/sydney-transport-tracker/data/raw/20190123/')\n",
    "files = os.listdir('.')\n",
    "for name in files:\n",
    "    print(name)"
   ]
  },
  {
   "cell_type": "markdown",
   "metadata": {},
   "source": [
    "## What services are running today?\n",
    "The services are determined in `calendar.txt`, with those service IDs used to filter out everything in `trips.txt`."
   ]
  },
  {
   "cell_type": "code",
   "execution_count": null,
   "metadata": {},
   "outputs": [],
   "source": [
    "import datetime\n",
    "import pandas as pd\n",
    "import csv\n",
    "\n",
    "day_of_analysis = 'wednesday'\n",
    "date_of_analysis = datetime.datetime.strptime('20190123', \"%Y%m%d\").date()\n",
    "todays_services = []\n",
    "\n",
    "with open('calendar.txt', mode='r', encoding='utf-8-sig') as csv_file:\n",
    "    csv_reader = csv.DictReader(csv_file)\n",
    "    line_count = 0\n",
    "    for row in csv_reader:\n",
    "        if row[day_of_analysis] == '1':\n",
    "            start_date = datetime.datetime.strptime(row['start_date'], \"%Y%m%d\").date()\n",
    "            end_date = datetime.datetime.strptime(row['end_date'], \"%Y%m%d\").date()\n",
    "            if start_date <= date_of_analysis <= end_date:\n",
    "                todays_services.append(row['service_id'])\n",
    "\n",
    "print(\"Todays services = \" )\n",
    "print(', '.join(todays_services))"
   ]
  },
  {
   "cell_type": "code",
   "execution_count": null,
   "metadata": {},
   "outputs": [],
   "source": [
    "df = pd.read_csv('trips.txt',\n",
    "                 header=0,\n",
    "                 encoding='utf-8-sig',\n",
    "                 usecols=[\"route_id\", \"service_id\", \"trip_id\", \"trip_short_name\"])\n",
    "df = df[df['service_id'].isin(todays_services)]\n",
    "print(df)"
   ]
  },
  {
   "cell_type": "markdown",
   "metadata": {},
   "source": [
    "Gosh, that's a lot of services... What are RTTA_DEF and RTTA_REV... and are those CountryLink services??? Let's filter out some of these services as we're only going to analyse what is going on in the general Sydney commuter network."
   ]
  },
  {
   "cell_type": "code",
   "execution_count": null,
   "metadata": {},
   "outputs": [],
   "source": [
    "ROUTES_TO_IGNORE = [\"CTY_NC1\", \"CTY_NC1a\", \"CTY_NC2\", \"CTY_NW1a\", \"CTY_NW1b\", \"CTY_NW1c\", \"CTY_NW1d\",\n",
    "                    \"CTY_NW2a\", \"CTY_NW2b\", \"CTY_S1a\", \"CTY_S1b\", \"CTY_S1c\", \"CTY_S1d\", \"CTY_S1e\",\n",
    "                    \"CTY_S1f\", \"CTY_S1g\", \"CTY_S1h\", \"CTY_S1i\", \"CTY_S2a\", \"CTY_S2b\", \"CTY_S2c\",\n",
    "                    \"CTY_S2d\", \"CTY_S2e\", \"CTY_S2f\", \"CTY_S2g\", \"CTY_S2h\", \"CTY_S2i\", \"CTY_W1a\",\n",
    "                    \"CTY_W1b\", \"CTY_W2a\", \"CTY_W2b\", \"HUN_1a\", \"HUN_1b\", \"HUN_2a\", \"HUN_2b\",\n",
    "                    \"RTTA_DEF\", \"RTTA_REV\"]\n",
    "df = df[~df['route_id'].isin(ROUTES_TO_IGNORE)]\n",
    "print(df)"
   ]
  },
  {
   "cell_type": "code",
   "execution_count": null,
   "metadata": {},
   "outputs": [],
   "source": []
  }
 ],
 "metadata": {
  "kernelspec": {
   "display_name": "Python 3",
   "language": "python",
   "name": "python3"
  },
  "language_info": {
   "codemirror_mode": {
    "name": "ipython",
    "version": 3
   },
   "file_extension": ".py",
   "mimetype": "text/x-python",
   "name": "python",
   "nbconvert_exporter": "python",
   "pygments_lexer": "ipython3",
   "version": "3.5.2"
  }
 },
 "nbformat": 4,
 "nbformat_minor": 1
}
