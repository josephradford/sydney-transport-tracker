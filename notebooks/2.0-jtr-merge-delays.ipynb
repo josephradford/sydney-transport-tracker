{
 "cells": [
  {
   "cell_type": "markdown",
   "metadata": {},
   "source": [
    "# Merge Delays\n",
    "In this notebook, the delay information from 24/01/2019 is merged into a single object.\n",
    "\n",
    "## Real-time updates\n",
    "In the archive, all of the responses to requests to the Transport for NSW Open Data [realtime API](https://opendata.transport.nsw.gov.au/dataset/public-transport-realtime-trip-update) have been saved. As part of the repository, there is a Python task for making these requests every two minutes, 24 hours a day."
   ]
  },
  {
   "cell_type": "code",
   "execution_count": 1,
   "metadata": {},
   "outputs": [
    {
     "name": "stdout",
     "output_type": "stream",
     "text": [
      "We have 720 delay files\n"
     ]
    }
   ],
   "source": [
    "import glob\n",
    "data_path = 'home/pi/sydney-transport-tracker/data/raw/20190124/'\n",
    "delay_files = sorted(glob.glob(data_path + '*.pickle'))\n",
    "print('We have ' + str(len(delay_files)) + ' delay files')"
   ]
  },
  {
   "cell_type": "markdown",
   "metadata": {},
   "source": [
    "### The response\n",
    "This data is in the format according to [General Transit Feed Specification](https://developers.google.com/transit/) and can be parsed with the [GTFS python library](https://developers.google.com/transit/gtfs-realtime/examples/python-sample) to return entities containing the delay information.\n",
    "Let's look at entity 20 from the first file as an example."
   ]
  },
  {
   "cell_type": "code",
   "execution_count": 2,
   "metadata": {},
   "outputs": [
    {
     "data": {
      "text/plain": [
       "id: \"90XZ.1260.122.56.A.8.55186880\"\n",
       "trip_update {\n",
       "  trip {\n",
       "    trip_id: \"90XZ.1260.122.56.A.8.55186880\"\n",
       "    schedule_relationship: SCHEDULED\n",
       "    route_id: \"RTTA_DEF\"\n",
       "  }\n",
       "  timestamp: 1548248377\n",
       "}"
      ]
     },
     "execution_count": 2,
     "metadata": {},
     "output_type": "execute_result"
    }
   ],
   "source": [
    "from google.transit import gtfs_realtime_pb2\n",
    "import pickle\n",
    "delay_response = pickle.load(open(delay_files[0], \"rb\"))\n",
    "feed = gtfs_realtime_pb2.FeedMessage()\n",
    "feed.ParseFromString(delay_response)\n",
    "feed.entity[20]"
   ]
  },
  {
   "cell_type": "markdown",
   "metadata": {},
   "source": [
    "As mentioned, responses were saved every two minutes. This means there is going to be overlaps where a trip and its delay information will appear across multiple response files. We keep all of this information because, throughout the day, as trips finish, they will no longer appear in the real time response.\n",
    "\n",
    "Delay objects are merged by simply taking the latest delay information for a stop. This is done with the assistance of the `trip_objects` class and the `merge_trips` method.\n",
    "\n",
    "In the end, we simply have the last available information of delays for each trip.\n",
    "\n",
    "Again, there will be information for routes we are not tracking. Ignore these while parsing the responses to save us filtering them out later."
   ]
  },
  {
   "cell_type": "code",
   "execution_count": 3,
   "metadata": {},
   "outputs": [
    {
     "name": "stdout",
     "output_type": "stream",
     "text": [
      "Found 3204 trips\n"
     ]
    }
   ],
   "source": [
    "import sys\n",
    "sys.path.append('../')\n",
    "from src.features.trip_objects import *\n",
    "from src.features.trip_helper import *\n",
    "\n",
    "ROUTES_TO_IGNORE = [\"CTY_NC1\", \"CTY_NC1a\", \"CTY_NC2\", \n",
    "                    \"CTY_NW1a\", \"CTY_NW1b\", \"CTY_NW1c\", \"CTY_NW1d\", \"CTY_NW2a\", \"CTY_NW2b\", \n",
    "                    \"CTY_S1a\", \"CTY_S1b\", \"CTY_S1c\", \"CTY_S1d\", \"CTY_S1e\", \"CTY_S1f\", \n",
    "                    \"CTY_S1g\", \"CTY_S1h\", \"CTY_S1i\", \n",
    "                    \"CTY_S2a\", \"CTY_S2b\", \"CTY_S2c\", \"CTY_S2d\", \"CTY_S2e\", \"CTY_S2f\", \n",
    "                    \"CTY_S2g\", \"CTY_S2h\", \"CTY_S2i\", \n",
    "                    \"CTY_W1a\", \"CTY_W1b\", \"CTY_W2a\", \"CTY_W2b\", \n",
    "                    \"HUN_1a\", \"HUN_1b\", \"HUN_2a\", \"HUN_2b\", \n",
    "                    \"RTTA_DEF\", \"RTTA_REV\"]\n",
    "\n",
    "merged_delays = dict()\n",
    "\n",
    "for delay_data_file in delay_files:\n",
    "    current_delay_response = pickle.load(open(delay_data_file, \"rb\"))\n",
    "\n",
    "    feed = gtfs_realtime_pb2.FeedMessage()\n",
    "    feed.ParseFromString(current_delay_response)\n",
    "    for entity in feed.entity:\n",
    "        \n",
    "        if entity.trip_update.trip.route_id in ROUTES_TO_IGNORE:\n",
    "            continue\n",
    "            \n",
    "        if entity.HasField('trip_update') and len(entity.trip_update.stop_time_update) > 0:\n",
    "            trip_update = TripUpdate(entity.trip_update.trip.trip_id,\n",
    "                                     entity.trip_update.trip.route_id,\n",
    "                                     entity.trip_update.trip.schedule_relationship,\n",
    "                                     entity.trip_update.timestamp)\n",
    "\n",
    "            for stop_time_update in entity.trip_update.stop_time_update:\n",
    "                trip_update.stop_time_updates[stop_time_update.stop_id] \\\n",
    "                    = StopTimeUpdate(stop_time_update.stop_id,\n",
    "                                     stop_time_update.arrival.delay,\n",
    "                                     stop_time_update.departure.delay,\n",
    "                                     stop_time_update.schedule_relationship)\n",
    "\n",
    "            if trip_update.trip_id in merged_delays:\n",
    "                merged_delays[trip_update.trip_id] = \\\n",
    "                    merge_trips(merged_delays[trip_update.trip_id], trip_update)\n",
    "            else:\n",
    "                merged_delays[trip_update.trip_id] = trip_update\n",
    "\n",
    "print(\"Found \" + str(len(merged_delays)) + \" trips\")"
   ]
  },
  {
   "cell_type": "code",
   "execution_count": 4,
   "metadata": {},
   "outputs": [],
   "source": [
    "pickle.dump(merged_delays, open('merged_delays.pickle', 'wb'))"
   ]
  }
 ],
 "metadata": {
  "kernelspec": {
   "display_name": "Python 3",
   "language": "python",
   "name": "python3"
  },
  "language_info": {
   "codemirror_mode": {
    "name": "ipython",
    "version": 3
   },
   "file_extension": ".py",
   "mimetype": "text/x-python",
   "name": "python",
   "nbconvert_exporter": "python",
   "pygments_lexer": "ipython3",
   "version": "3.5.2"
  }
 },
 "nbformat": 4,
 "nbformat_minor": 2
}
